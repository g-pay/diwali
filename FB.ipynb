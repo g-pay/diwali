{
 "cells": [
  {
   "cell_type": "code",
   "execution_count": 2,
   "id": "4b41b8ca",
   "metadata": {},
   "outputs": [
    {
     "name": "stdout",
     "output_type": "stream",
     "text": [
      "Enter a Number: 10\n",
      "Given N = 10\n",
      "1000 runs\n",
      "Fibonacci non-recursive: 55 \tTime: 0.002428 O(n)\tSpace: O(1)\n",
      "Fibonacci recursive:\t 55 \tTime: 0.031706 O(2^n)\tSpace: O(n)\n"
     ]
    }
   ],
   "source": [
    "import timeit\n",
    " \n",
    " \n",
    "def fibonacci(n):\n",
    "    \"\"\"Non recursive fibonacci function\"\"\"\n",
    "    for i in range(2, n + 1):\n",
    "        fib_list[i] = fib_list[i - 1] + fib_list[i - 2]\n",
    "    return fib_list[n]\n",
    " \n",
    " \n",
    "def fibonacci_recursive(n):\n",
    "    \"\"\"Recursive fibonacci function\"\"\"\n",
    "    if n == 0:\n",
    "        return 0\n",
    "    if n == 1:\n",
    "        return 1\n",
    "    fib_recur_list[n] = fibonacci_recursive(n - 1) + fibonacci_recursive(n - 2)\n",
    "    return fib_recur_list[n]\n",
    " \n",
    " \n",
    "N = int(input(\"Enter a Number: \"))\n",
    "RUNS = 1000\n",
    "print(f\"Given N = {N}\\n{RUNS} runs\")\n",
    " \n",
    "fib_list = [0] * (N + 1)\n",
    "fib_list[0] = 0\n",
    "fib_list[1] = 1\n",
    "print(\n",
    "    \"Fibonacci non-recursive:\",\n",
    "    fibonacci(N),\n",
    "    \"\\tTime:\",\n",
    "    f'{timeit.timeit(\"fibonacci(N)\", setup=f\"from __main__ import fibonacci;N={N}\", number=RUNS):5f}',\n",
    "    \"O(n)\\tSpace: O(1)\",\n",
    ")\n",
    " \n",
    "fib_recur_list = [0] * (N + 1)\n",
    "fib_recur_list[0] = 0\n",
    "fib_recur_list[1] = 1\n",
    "print(\n",
    "    \"Fibonacci recursive:\\t\",\n",
    "    fibonacci_recursive(N),\n",
    "    \"\\tTime:\",\n",
    "    f'{timeit.timeit(\"fibonacci_recursive(N)\", setup=f\"from __main__ import fibonacci_recursive;N={N}\", number=RUNS,):5f}',\n",
    "    \"O(2^n)\\tSpace: O(n)\",\n",
    ")\n",
    " \n",
    " "
   ]
  },
  {
   "cell_type": "code",
   "execution_count": null,
   "id": "e2cb2742",
   "metadata": {},
   "outputs": [],
   "source": []
  },
  {
   "cell_type": "code",
   "execution_count": null,
   "id": "3524c3b5",
   "metadata": {},
   "outputs": [],
   "source": []
  }
 ],
 "metadata": {
  "kernelspec": {
   "display_name": "Python 3 (ipykernel)",
   "language": "python",
   "name": "python3"
  },
  "language_info": {
   "codemirror_mode": {
    "name": "ipython",
    "version": 3
   },
   "file_extension": ".py",
   "mimetype": "text/x-python",
   "name": "python",
   "nbconvert_exporter": "python",
   "pygments_lexer": "ipython3",
   "version": "3.11.4"
  }
 },
 "nbformat": 4,
 "nbformat_minor": 5
}
